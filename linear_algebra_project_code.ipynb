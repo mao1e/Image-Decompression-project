{
  "nbformat": 4,
  "nbformat_minor": 0,
  "metadata": {
    "colab": {
      "provenance": [],
      "authorship_tag": "ABX9TyPv6GHwZV2gk6SuDYy5NKfn",
      "include_colab_link": true
    },
    "kernelspec": {
      "name": "python3",
      "display_name": "Python 3"
    },
    "language_info": {
      "name": "python"
    }
  },
  "cells": [
    {
      "cell_type": "markdown",
      "metadata": {
        "id": "view-in-github",
        "colab_type": "text"
      },
      "source": [
        "<a href=\"https://colab.research.google.com/github/mao1e/Image-Decompression-project/blob/main/linear_algebra_project_code.ipynb\" target=\"_parent\"><img src=\"https://colab.research.google.com/assets/colab-badge.svg\" alt=\"Open In Colab\"/></a>"
      ]
    },
    {
      "cell_type": "code",
      "execution_count": null,
      "metadata": {
        "id": "vgzb1hjDNhdy"
      },
      "outputs": [],
      "source": []
    },
    {
      "cell_type": "markdown",
      "source": [
        "Initialization stuff"
      ],
      "metadata": {
        "id": "ZNZzClB5N4Se"
      }
    },
    {
      "cell_type": "code",
      "source": [
        "import sys\n",
        "\n",
        "assert sys.version_info >= (3, 7)\n",
        "\n",
        "from packaging import version\n",
        "import sklearn\n",
        "\n",
        "assert version.parse(sklearn.__version__) >= version.parse(\"1.0.1\")\n",
        "\n",
        "\n",
        "#make the plots prettier\n",
        "import matplotlib.pyplot as plt\n",
        "\n",
        "plt.rc('font', size=14)\n",
        "plt.rc('axes', labelsize=14, titlesize=14)\n",
        "plt.rc('legend', fontsize=14)\n",
        "plt.rc('xtick', labelsize=10)\n",
        "plt.rc('ytick', labelsize=10)"
      ],
      "metadata": {
        "id": "9sDAxuUJNi-b"
      },
      "execution_count": null,
      "outputs": []
    },
    {
      "cell_type": "code",
      "source": [
        "#import MNIST\n",
        "\n",
        "from sklearn.datasets import fetch_openml\n",
        "\n",
        "mnist = fetch_openml('mnist_784', as_frame=False, parser=\"auto\")\n",
        "X_train, y_train = mnist.data[:60_000], mnist.target[:60_000]\n",
        "X_test, y_test = mnist.data[60_000:], mnist.target[60_000:]"
      ],
      "metadata": {
        "id": "mcy5l2waCxAD"
      },
      "execution_count": null,
      "outputs": []
    },
    {
      "cell_type": "code",
      "source": [
        "from sklearn.linear_model import SGDClassifier\n",
        "from sklearn.metrics import accuracy_score\n",
        "from sklearn.decomposition import PCA\n",
        "import numpy as np\n",
        "import time\n",
        "\n",
        "x_values = []\n",
        "y_values = []\n",
        "z_values = []"
      ],
      "metadata": {
        "id": "0UxF26EON8rA"
      },
      "execution_count": null,
      "outputs": []
    },
    {
      "cell_type": "code",
      "source": [
        "\n",
        "\n",
        "for i in range(484, 485, 1):\n",
        "    print(i)\n",
        "    start_time = time.time()\n",
        "    pca = PCA(n_components = i)\n",
        "    X_reduced = pca.fit_transform(X_train)\n",
        "    X_test_reduced = pca.transform(X_test)\n",
        "    sgd_clf = SGDClassifier(random_state=42)\n",
        "    sgd_clf.fit(X_reduced, y_train)\n",
        "    y_pred = sgd_clf.predict(X_test_reduced)\n",
        "    result_accuracy = accuracy_score(y_test, y_pred)\n",
        "    x_values.append(i)\n",
        "    y_values.append(result_accuracy)\n",
        "    end_time = time.time()\n",
        "    execution_time = end_time - start_time\n",
        "    z_values.append(execution_time)\n",
        "\n",
        "\n"
      ],
      "metadata": {
        "colab": {
          "base_uri": "https://localhost:8080/"
        },
        "id": "8Dry7iipHpI7",
        "outputId": "3db199d4-7de8-49cc-ad69-496b4575be8a"
      },
      "execution_count": null,
      "outputs": [
        {
          "output_type": "stream",
          "name": "stdout",
          "text": [
            "484\n"
          ]
        }
      ]
    },
    {
      "cell_type": "code",
      "source": [
        "new_z_values.append(z_values[-1])\n"
      ],
      "metadata": {
        "id": "6gKGJiw9QNp0"
      },
      "execution_count": null,
      "outputs": []
    },
    {
      "cell_type": "code",
      "source": [
        "new_x_values"
      ],
      "metadata": {
        "colab": {
          "base_uri": "https://localhost:8080/"
        },
        "id": "WRSuSFuPRbsx",
        "outputId": "99d621ef-7461-41c4-c823-cf400f80f06b"
      },
      "execution_count": null,
      "outputs": [
        {
          "output_type": "execute_result",
          "data": {
            "text/plain": [
              "[2,\n",
              " 7,\n",
              " 12,\n",
              " 17,\n",
              " 22,\n",
              " 27,\n",
              " 32,\n",
              " 37,\n",
              " 42,\n",
              " 47,\n",
              " 52,\n",
              " 57,\n",
              " 62,\n",
              " 67,\n",
              " 72,\n",
              " 77,\n",
              " 82,\n",
              " 87,\n",
              " 92,\n",
              " 97,\n",
              " 102,\n",
              " 107,\n",
              " 112,\n",
              " 117,\n",
              " 122,\n",
              " 127,\n",
              " 132,\n",
              " 137,\n",
              " 142,\n",
              " 147,\n",
              " 152,\n",
              " 157,\n",
              " 162,\n",
              " 167,\n",
              " 172,\n",
              " 177,\n",
              " 182,\n",
              " 187,\n",
              " 192,\n",
              " 197,\n",
              " 202,\n",
              " 207,\n",
              " 212,\n",
              " 217,\n",
              " 222,\n",
              " 227,\n",
              " 232,\n",
              " 237,\n",
              " 242,\n",
              " 247,\n",
              " 252,\n",
              " 257,\n",
              " 262,\n",
              " 267,\n",
              " 272,\n",
              " 277,\n",
              " 282,\n",
              " 287,\n",
              " 292,\n",
              " 297,\n",
              " 302,\n",
              " 307,\n",
              " 312,\n",
              " 317,\n",
              " 322,\n",
              " 327,\n",
              " 332,\n",
              " 337,\n",
              " 342,\n",
              " 347,\n",
              " 352,\n",
              " 357,\n",
              " 362,\n",
              " 367,\n",
              " 372,\n",
              " 377,\n",
              " 382,\n",
              " 387,\n",
              " 392,\n",
              " 397,\n",
              " 402,\n",
              " 407,\n",
              " 412,\n",
              " 417,\n",
              " 422,\n",
              " 427,\n",
              " 432,\n",
              " 437,\n",
              " 442,\n",
              " 447,\n",
              " 452,\n",
              " 457,\n",
              " 462,\n",
              " 467,\n",
              " 472,\n",
              " 477,\n",
              " 482]"
            ]
          },
          "metadata": {},
          "execution_count": 33
        }
      ]
    },
    {
      "cell_type": "code",
      "source": [
        "plt.figure(figsize=(6, 4))\n",
        "fig, ax1 = plt.subplots()\n",
        "\n",
        "color = 'tab:red'\n",
        "ax1.set_xlabel(\"Dimensions\")\n",
        "ax1.set_ylabel(\"Accuracy\", color=color)\n",
        "plt.grid(True)\n",
        "ax1.plot(new_x_values, new_y_values, color=color, linestyle='-')\n",
        "ax1.tick_params(axis='y', labelcolor=color)\n",
        "\n",
        "ax2 = ax1.twinx()  # instantiate a second axes that shares the same x-axis\n",
        "\n",
        "color = 'tab:blue'\n",
        "ax2.set_ylabel('time (s)', color=color)  # we already handled the x-label with ax1\n",
        "ax2.plot(new_x_values, new_z_values, color=color, linestyle='-')\n",
        "ax2.tick_params(axis='y', labelcolor=color)\n",
        "\n",
        "\n",
        "\n",
        "fig.tight_layout()  # otherwise the right y-label is slightly clipped\n",
        "ax1.annotate(\"Elbow\", xy=(85, 0.895), xytext=(150, 0.75),\n",
        "             arrowprops=dict(arrowstyle=\"->\"))\n",
        "ax1.annotate(\"\", xy=(85, 0.45), xytext=(150, 0.75),\n",
        "             arrowprops=dict(arrowstyle=\"->\"))\n",
        "plt.savefig(\"second good graph\")\n",
        "plt.show()"
      ],
      "metadata": {
        "colab": {
          "base_uri": "https://localhost:8080/",
          "height": 492
        },
        "id": "uG6Y1ug7LrLh",
        "outputId": "a415dcdc-9762-4685-d0e1-b72269414a7f"
      },
      "execution_count": null,
      "outputs": [
        {
          "output_type": "display_data",
          "data": {
            "text/plain": [
              "<Figure size 600x400 with 0 Axes>"
            ]
          },
          "metadata": {}
        },
        {
          "output_type": "display_data",
          "data": {
            "text/plain": [
              "<Figure size 640x480 with 2 Axes>"
            ],
            "image/png": "[encoded data removed]"
          },
          "metadata": {}
        }
      ]
    },
    {
      "cell_type": "code",
      "source": [],
      "metadata": {
        "id": "-WFDRtVlk8Wf"
      },
      "execution_count": null,
      "outputs": []
    },
    {
      "cell_type": "code",
      "source": [
        "#tester code with pca\n",
        "from sklearn.metrics import accuracy_score\n",
        "from sklearn.ensemble import RandomForestClassifier\n",
        "\n",
        "from sklearn.decomposition import PCA\n",
        "\n",
        "pca = PCA(n_components = 23)\n",
        "X_reduced = pca.fit_transform(X_train)\n",
        "X_test_reduced = pca.transform(X_test)\n",
        "\n",
        "\n",
        "rnd_clf = RandomForestClassifier(n_estimators=452, random_state=42)\n",
        "\n",
        "%time rnd_clf.fit(X_reduced, y_train)\n",
        "\n",
        "y_pred = rnd_clf.predict(X_test_reduced)\n",
        "accuracy_score(y_test, y_pred)"
      ],
      "metadata": {
        "colab": {
          "base_uri": "https://localhost:8080/"
        },
        "id": "OTh6yDnDCZSR",
        "outputId": "037fb6a6-4e44-4769-c057-36c2d5a2198e"
      },
      "execution_count": null,
      "outputs": [
        {
          "output_type": "stream",
          "name": "stdout",
          "text": [
            "CPU times: user 3min 16s, sys: 741 ms, total: 3min 16s\n",
            "Wall time: 3min 21s\n"
          ]
        },
        {
          "output_type": "execute_result",
          "data": {
            "text/plain": [
              "0.9525"
            ]
          },
          "metadata": {},
          "execution_count": 33
        }
      ]
    },
    {
      "cell_type": "code",
      "source": [
        "#tester code without pca\n",
        "\n",
        "from sklearn.linear_model import SGDClassifier\n",
        "from sklearn.metrics import accuracy_score\n",
        "\n",
        "new_x_values.append(484)\n",
        "start_time = time.time()\n",
        "sgd_clf = SGDClassifier(random_state=42)\n",
        "sgd_clf.fit(X_train, y_train)\n",
        "\n",
        "y_pred = sgd_clf.predict(X_test)\n",
        "new_y_values.append(accuracy_score(y_test, y_pred))\n",
        "\n",
        "end_time = time.time()\n",
        "execution_time = end_time - start_time\n",
        "z_values.append(execution_time)\n",
        "\n",
        "\n",
        "\n"
      ],
      "metadata": {
        "id": "DGlRNuBrOjI3"
      },
      "execution_count": null,
      "outputs": []
    },
    {
      "cell_type": "code",
      "source": [
        "#use this as a sample pca to ML model test\n",
        "from sklearn.decomposition import PCA\n",
        "from sklearn.datasets import fetch_openml\n",
        "\n",
        "mnist = fetch_openml('mnist_784', as_frame=False, parser=\"auto\")\n",
        "X_train, y_train = mnist.data[:60_000], mnist.target[:60_000]\n",
        "X_test, y_test = mnist.data[60_000:], mnist.target[60_000:]\n",
        "\n",
        "pca = PCA(n_components = 100)\n",
        "X_reduced = pca.fit_transform(X_train)\n",
        "X_test_reduced = pca.transform(X_test)\n",
        "\n",
        "sgd_clf = SGDClassifier(random_state=42)\n",
        "%time sgd_clf.fit(X_reduced, y_train)\n",
        "\n",
        "y_pred = sgd_clf.predict(X_test_reduced)\n",
        "accuracy_score(y_test, y_pred)\n",
        "\n",
        "\n"
      ],
      "metadata": {
        "colab": {
          "base_uri": "https://localhost:8080/"
        },
        "id": "yU2c8D3ESA6s",
        "outputId": "2f3d3a23-888d-40de-ed39-f671ec781149"
      },
      "execution_count": null,
      "outputs": [
        {
          "output_type": "stream",
          "name": "stdout",
          "text": [
            "CPU times: user 28.7 s, sys: 144 ms, total: 28.8 s\n",
            "Wall time: 28.7 s\n"
          ]
        },
        {
          "output_type": "execute_result",
          "data": {
            "text/plain": [
              "0.8835"
            ]
          },
          "metadata": {},
          "execution_count": 4
        }
      ]
    },
    {
      "cell_type": "code",
      "source": [
        "\n",
        "\n",
        "print(pca.components_[0])"
      ],
      "metadata": {
        "colab": {
          "base_uri": "https://localhost:8080/"
        },
        "id": "KIQlZad-NitQ",
        "outputId": "19cd797e-e91e-4050-b03f-1f7f472e6c07"
      },
      "execution_count": null,
      "outputs": [
        {
          "output_type": "stream",
          "name": "stdout",
          "text": [
            "[-6.25278585e-18  8.05687112e-19 -5.24460416e-18  3.27144520e-19\n",
            "  1.65516632e-18 -9.03756733e-20  1.39938810e-19  2.52303625e-20\n",
            " -2.26734354e-20 -1.26507311e-20 -2.40340720e-20 -9.53922034e-21\n",
            " -1.13022999e-06 -4.44987008e-06 -2.19785960e-06 -9.15774833e-08\n",
            " -2.94985563e-24  3.09330892e-22  3.72499363e-22  7.42305029e-22\n",
            " -6.17920651e-22 -2.07028897e-22  4.63872461e-22  4.91046421e-22\n",
            " -1.62403759e-22 -8.33652423e-23  1.73280445e-22  4.67986927e-23\n",
            " -1.71814134e-23  1.91702430e-23 -3.29633898e-23  3.65474621e-23\n",
            "  2.46332117e-07  8.70394526e-07  8.07828577e-06  2.07899216e-05\n",
            "  2.74484785e-05  4.43302473e-05  7.14293298e-05  9.03571728e-05\n",
            "  8.92534083e-05  7.96187541e-05  8.37900230e-05  6.12003371e-05\n",
            "  3.32476101e-05  3.18856915e-05  1.84435794e-05 -1.33003534e-05\n",
            " -1.08540941e-05  1.55973517e-06  1.06839782e-06  5.04492283e-07\n",
            "  2.71245813e-25 -3.65834317e-25 -9.77936240e-25  1.70712010e-25\n",
            " -6.60389193e-26  1.64756268e-25  1.96615753e-06  1.09264414e-06\n",
            "  3.78170707e-06  5.42556652e-06  4.54016550e-05  8.80063484e-05\n",
            "  1.74906911e-04  3.49737899e-04  5.25037751e-04  8.19630806e-04\n",
            "  1.33334263e-03  1.94378162e-03  2.35926280e-03  2.47464087e-03\n",
            "  2.41523732e-03  1.99203160e-03  1.27312804e-03  7.61625621e-04\n",
            "  4.15452682e-04  1.74690829e-04  6.92125344e-05  1.43318304e-05\n",
            "  8.82496596e-06  3.65876221e-06  1.05053437e-26 -3.09705972e-27\n",
            "  1.18757656e-26 -3.73895716e-27  2.56757368e-06  7.83497352e-06\n",
            "  1.44677392e-05  7.88729492e-05  1.32228090e-04  2.45399260e-04\n",
            "  5.15312055e-04  1.03806702e-03  1.77636679e-03  2.97179446e-03\n",
            "  4.62742305e-03  6.57263692e-03  8.36456884e-03  9.33782758e-03\n",
            "  8.86484917e-03  6.95610822e-03  5.00230419e-03  3.34948109e-03\n",
            "  2.12952848e-03  1.05776479e-03  4.93275652e-04  1.43392142e-04\n",
            "  1.35708910e-05  1.38381968e-06 -3.22083306e-06 -0.00000000e+00\n",
            " -0.00000000e+00  1.70816861e-07 -5.09471827e-06  1.23645490e-05\n",
            "  4.66637490e-05  2.12590585e-04  5.41138070e-04  1.18119954e-03\n",
            "  2.57056604e-03  4.95235519e-03  8.35734492e-03  1.29675166e-02\n",
            "  1.82599204e-02  2.34413491e-02  2.70030959e-02  2.96040182e-02\n",
            "  2.95255440e-02  2.56951517e-02  2.03682532e-02  1.42620877e-02\n",
            "  8.75677477e-03  4.94330928e-03  2.41961391e-03  9.43476465e-04\n",
            "  2.36047259e-04  1.49518827e-05 -7.26074638e-06 -3.34113987e-06\n",
            " -0.00000000e+00 -0.00000000e+00  3.82304506e-06  1.72698830e-05\n",
            "  2.13448332e-04  7.36785192e-04  1.68791645e-03  3.68288404e-03\n",
            "  7.56324728e-03  1.40248022e-02  2.30913180e-02  3.45098345e-02\n",
            "  4.52198376e-02  5.21823010e-02  5.49705113e-02  5.49873027e-02\n",
            "  5.40484132e-02  5.10901558e-02  4.53479385e-02  3.68231470e-02\n",
            "  2.57367415e-02  1.56628818e-02  7.96069681e-03  3.17801168e-03\n",
            "  8.14643757e-04 -3.24152880e-06 -1.21506471e-05 -5.71294125e-06\n",
            " -0.00000000e+00 -1.13129764e-07 -3.93504864e-06  3.27387609e-05\n",
            "  4.92801728e-04  1.41637101e-03  2.99846554e-03  6.76327813e-03\n",
            "  1.37594436e-02  2.56656720e-02  4.18911299e-02  5.89689526e-02\n",
            "  6.95519580e-02  7.00968512e-02  6.29658221e-02  5.49957193e-02\n",
            "  5.22309758e-02  5.56298721e-02  5.92904681e-02  5.72237421e-02\n",
            "  4.70875930e-02  3.15463707e-02  1.65014394e-02  6.32541633e-03\n",
            "  1.32484078e-03 -2.96808536e-05 -7.50383757e-05 -1.90447850e-05\n",
            " -6.04408565e-07 -1.04543073e-05 -3.11559342e-05  1.89085712e-05\n",
            "  5.20697663e-04  1.52156362e-03  3.84405695e-03  9.68963883e-03\n",
            "  2.07999180e-02  3.77587733e-02  5.73774754e-02  7.21900626e-02\n",
            "  7.39326140e-02  6.09816220e-02  4.12403754e-02  2.48703014e-02\n",
            "  2.14006235e-02  3.21258145e-02  4.95352208e-02  6.17921957e-02\n",
            "  6.08504487e-02  4.57612237e-02  2.59973213e-02  9.48218585e-03\n",
            "  1.40269582e-03 -3.29736008e-04 -1.33595794e-04 -1.42951060e-05\n",
            " -3.14792762e-06 -1.34439840e-05 -3.49584378e-05  4.60436093e-05\n",
            "  4.81574180e-04  1.53303787e-03  5.17403927e-03  1.39242940e-02\n",
            "  2.95057509e-02  4.95521165e-02  6.68268067e-02  7.25013968e-02\n",
            "  6.17247240e-02  3.75469952e-02  9.11777550e-03 -1.14745874e-02\n",
            " -1.44130503e-02  9.50440925e-04  2.94907347e-02  5.67609033e-02\n",
            "  6.77065326e-02  5.68711500e-02  3.49993565e-02  1.31946245e-02\n",
            "  1.60338874e-03 -7.27797563e-04 -1.69246235e-04 -1.88286807e-05\n",
            " -6.82429899e-06 -1.42931495e-05 -3.12650446e-06  1.18730151e-04\n",
            "  6.47271181e-04  2.47033347e-03  8.82776508e-03  2.22911777e-02\n",
            "  4.19769204e-02  6.23581587e-02  7.25891275e-02  6.70364116e-02\n",
            "  4.67578652e-02  1.69916826e-02 -1.56147316e-02 -3.78642138e-02\n",
            " -3.99610339e-02 -2.14549712e-02  1.33414006e-02  5.10152095e-02\n",
            "  7.08567988e-02  6.56776910e-02  4.38824252e-02  1.84865763e-02\n",
            "  2.94583732e-03 -5.62236912e-04 -1.32554394e-04 -2.52277970e-05\n",
            " -7.66986062e-06 -2.57006973e-06  4.63654330e-05  2.56877312e-04\n",
            "  1.18663715e-03  4.99327299e-03  1.55327434e-02  3.45680989e-02\n",
            "  5.75451921e-02  7.44160399e-02  7.51331244e-02  6.05737537e-02\n",
            "  3.59203010e-02  3.89621663e-03 -3.08460370e-02 -5.33304205e-02\n",
            " -5.20934537e-02 -3.11975632e-02  7.14701954e-03  4.96868626e-02\n",
            "  7.40868185e-02  7.22783649e-02  5.18631211e-02  2.47959820e-02\n",
            "  5.52936582e-03 -1.91836295e-04 -8.50341680e-05 -1.22756141e-05\n",
            " -5.05586506e-06 -7.60006282e-06  6.81393776e-05  4.02661236e-04\n",
            "  1.95437419e-03  8.72838650e-03  2.41704804e-02  4.83109424e-02\n",
            "  7.18174573e-02  8.23501863e-02  7.37237645e-02  5.32539832e-02\n",
            "  2.80309503e-02 -5.09372286e-03 -4.19213059e-02 -5.97319689e-02\n",
            " -5.25598486e-02 -2.62243021e-02  1.34956870e-02  5.51622870e-02\n",
            "  7.84952008e-02  7.72095315e-02  5.70834756e-02  3.03154026e-02\n",
            "  8.14396187e-03  1.06130588e-04 -1.05359973e-05 -5.93967518e-06\n",
            " -2.73911797e-06  9.96377958e-07  6.13985794e-05  4.57335513e-04\n",
            "  2.71399142e-03  1.29326184e-02  3.41042540e-02  6.17890485e-02\n",
            "  8.27670628e-02  8.47348587e-02  6.80219497e-02  4.44281493e-02\n",
            "  1.97240869e-02 -1.64554714e-02 -5.21314772e-02 -6.20036658e-02\n",
            " -4.53869112e-02 -1.12702499e-02  2.94460122e-02  6.53841986e-02\n",
            "  8.33385972e-02  7.98390217e-02  6.01529468e-02  3.40946211e-02\n",
            "  1.03837645e-02  3.41724793e-04 -5.75391213e-06 -7.71984136e-06\n",
            " -1.57139526e-06  2.06840986e-07  4.62791840e-05  4.37242675e-04\n",
            "  3.74210468e-03  1.83923853e-02  4.42298446e-02  7.31073835e-02\n",
            "  8.90295688e-02  8.17893972e-02  5.82458528e-02  3.30553668e-02\n",
            "  7.76390612e-03 -3.32837724e-02 -6.22848500e-02 -6.43171724e-02\n",
            " -3.46562417e-02  5.65165765e-03  4.53944822e-02  7.54822222e-02\n",
            "  8.75867928e-02  8.17706081e-02  6.19652567e-02  3.61943283e-02\n",
            "  1.18931759e-02  4.87819145e-04 -4.66402222e-05 -9.83626033e-06\n",
            "  1.71304735e-07  1.62287234e-06  2.77287607e-05  4.20706259e-04\n",
            "  5.27499228e-03  2.46909856e-02  5.35754213e-02  8.14071181e-02\n",
            "  9.10185799e-02  7.55680066e-02  4.65316180e-02  1.96821371e-02\n",
            " -7.85548192e-03 -5.00826875e-02 -7.10375292e-02 -6.52691606e-02\n",
            " -2.54776222e-02  1.49587759e-02  5.41391819e-02  8.18274711e-02\n",
            "  9.08468882e-02  8.35230515e-02  6.24780925e-02  3.62205258e-02\n",
            "  1.25290486e-02  7.49446175e-04 -3.93614778e-05 -1.86822143e-06\n",
            "  3.26981720e-08  2.34056750e-06  1.88065137e-05  4.90715500e-04\n",
            "  7.27381317e-03  3.12517065e-02  6.16095013e-02  8.63328783e-02\n",
            "  9.04815757e-02  6.97751837e-02  3.80384621e-02  9.69724609e-03\n",
            " -2.16409517e-02 -6.00393021e-02 -7.63981054e-02 -6.26678446e-02\n",
            " -2.06500358e-02  1.91408335e-02  5.86810883e-02  8.54519732e-02\n",
            "  9.37615692e-02  8.43485757e-02  6.16095378e-02  3.39979238e-02\n",
            "  1.13704414e-02  7.77951527e-04 -4.30284751e-05 -9.88499566e-06\n",
            " -1.33672907e-07 -1.47465784e-06  3.61057447e-05  6.63682322e-04\n",
            "  9.56765908e-03  3.70472977e-02  6.68614286e-02  8.88373187e-02\n",
            "  8.94510960e-02  6.63978322e-02  3.32332915e-02  2.95855049e-03\n",
            " -3.00872536e-02 -6.29865061e-02 -7.68326978e-02 -5.72107790e-02\n",
            " -1.65448321e-02  2.56960205e-02  6.54999741e-02  9.08642399e-02\n",
            "  9.72062106e-02  8.33757284e-02  5.71621056e-02  2.91767474e-02\n",
            "  8.90829955e-03  6.06611897e-04 -9.27971124e-05 -8.03954624e-06\n",
            " -0.00000000e+00 -2.58066583e-06  6.41870915e-05  1.05273625e-03\n",
            "  1.23608597e-02  4.11036927e-02  6.91237247e-02  8.87127464e-02\n",
            "  8.70756355e-02  6.39978426e-02  3.01088740e-02 -2.67905000e-03\n",
            " -3.43973441e-02 -6.31759186e-02 -7.13747508e-02 -4.69933888e-02\n",
            " -4.23188479e-03  4.12222097e-02  7.87223193e-02  9.91630661e-02\n",
            "  9.88295111e-02  7.79380623e-02  4.87221608e-02  2.24464822e-02\n",
            "  6.00022710e-03  3.42861147e-04 -1.15322462e-04 -7.94350922e-06\n",
            " -3.92681902e-06  1.38924558e-06  1.13680722e-04  1.74330809e-03\n",
            "  1.45876442e-02  4.23767152e-02  6.89998307e-02  8.68437545e-02\n",
            "  8.51601710e-02  6.27028442e-02  2.91113439e-02 -4.60094806e-03\n",
            " -3.43860386e-02 -5.76991147e-02 -5.68573376e-02 -2.62295464e-02\n",
            "  2.00862487e-02  6.47506886e-02  9.54849076e-02  1.06024634e-01\n",
            "  9.36928290e-02  6.64052042e-02  3.77747184e-02  1.55335998e-02\n",
            "  3.58825048e-03  1.65089190e-04 -6.58437730e-05 -1.30021068e-05\n",
            " -6.94024684e-07 -6.97341117e-06  1.74704872e-04  2.21694332e-03\n",
            "  1.50996866e-02  4.10454860e-02  6.69915652e-02  8.51080397e-02\n",
            "  8.57858283e-02  6.71595872e-02  3.56382974e-02  3.42069963e-03\n",
            " -2.29240668e-02 -3.81380445e-02 -2.89654897e-02  5.41780493e-03\n",
            "  5.10002324e-02  8.80816918e-02  1.06223058e-01  1.01501876e-01\n",
            "  7.91131714e-02  5.07050100e-02  2.57286905e-02  9.42956986e-03\n",
            "  1.85423749e-03  2.88490416e-05 -4.66106646e-05 -7.14579225e-06\n",
            " -0.00000000e+00 -5.39189808e-07  2.02002591e-04  2.19222550e-03\n",
            "  1.30221004e-02  3.49024951e-02  6.08739950e-02  8.13627222e-02\n",
            "  8.79478550e-02  7.70743841e-02  5.25953740e-02  2.57573613e-02\n",
            "  4.08376112e-03 -4.77189832e-03  8.64781785e-03  4.04869095e-02\n",
            "  7.60584903e-02  9.83452147e-02  9.95153571e-02  8.24691552e-02\n",
            "  5.68871830e-02  3.22719539e-02  1.46236560e-02  5.00598610e-03\n",
            "  9.79651903e-04  1.21404848e-05 -2.75334222e-05 -2.77487692e-06\n",
            " -1.54023394e-06  4.82578708e-06  1.68102424e-04  1.65014454e-03\n",
            "  8.87055540e-03  2.49170527e-02  4.72081597e-02  6.97353768e-02\n",
            "  8.22829643e-02  8.10153701e-02  6.73200064e-02  4.81373921e-02\n",
            "  3.35114713e-02  2.89770297e-02  3.97744031e-02  6.12539213e-02\n",
            "  8.02388549e-02  8.57169753e-02  7.45029727e-02  5.40491917e-02\n",
            "  3.27417294e-02  1.64711770e-02  6.96896794e-03  2.52290413e-03\n",
            "  5.84886418e-04  3.62354414e-05 -3.69656844e-07  2.43518084e-06\n",
            " -1.49210163e-06 -5.94309087e-07  7.83362328e-05  8.78750763e-04\n",
            "  4.24086005e-03  1.30667485e-02  2.79533493e-02  4.57057741e-02\n",
            "  5.96428186e-02  6.46410715e-02  5.97527977e-02  4.91391640e-02\n",
            "  4.03456235e-02  3.80879053e-02  4.25728506e-02  5.16333796e-02\n",
            "  5.70200111e-02  5.36082517e-02  4.15182732e-02  2.68648872e-02\n",
            "  1.45719159e-02  6.81858304e-03  3.00459725e-03  1.21864525e-03\n",
            "  3.47607891e-04  4.31296044e-05  3.34854936e-06  4.49571847e-06\n",
            " -0.00000000e+00 -0.00000000e+00  2.07168806e-05  2.26279555e-04\n",
            "  1.09536884e-03  3.58180072e-03  8.91227077e-03  1.69276813e-02\n",
            "  2.49865944e-02  2.97965269e-02  2.98440582e-02  2.69014854e-02\n",
            "  2.36074975e-02  2.05611418e-02  1.96788535e-02  2.14445539e-02\n",
            "  2.32261116e-02  2.07972889e-02  1.51589653e-02  9.38617281e-03\n",
            "  5.21436119e-03  2.68641563e-03  1.25468860e-03  4.79839593e-04\n",
            "  1.31465283e-04  1.35232893e-05 -7.58615446e-06 -0.00000000e+00\n",
            " -0.00000000e+00 -0.00000000e+00  4.14579038e-06  1.60971199e-05\n",
            "  6.19393326e-05  1.73124835e-04  3.89756749e-04  5.70727067e-04\n",
            "  6.02915298e-04 -4.44828265e-04 -2.87450671e-03 -4.77596474e-03\n",
            " -5.50076167e-03 -5.25442862e-03 -4.03394051e-03 -1.27066953e-03\n",
            "  1.41549277e-03  2.89397140e-03  3.12956235e-03  2.67266817e-03\n",
            "  1.87051051e-03  1.08744310e-03  5.63817264e-04  2.00976921e-04\n",
            "  2.75321633e-05 -3.81759276e-06 -2.19428242e-06 -0.00000000e+00\n",
            " -0.00000000e+00 -0.00000000e+00  5.25692970e-07 -7.54683342e-06\n",
            " -6.36907952e-05 -1.96357981e-04 -5.96317863e-04 -1.49032307e-03\n",
            " -3.31605674e-03 -6.03175137e-03 -9.30669159e-03 -1.15256125e-02\n",
            " -1.20950557e-02 -1.10761275e-02 -8.52560511e-03 -5.82834683e-03\n",
            " -3.02491516e-03 -9.94382843e-04  1.72080510e-04  6.13624262e-04\n",
            "  6.31916846e-04  3.91846861e-04  1.70127357e-04  8.70905572e-05\n",
            "  1.71774789e-05 -7.70769861e-07 -1.59475012e-06 -0.00000000e+00\n",
            " -0.00000000e+00 -0.00000000e+00 -0.00000000e+00 -9.89068983e-07\n",
            " -3.39007479e-05 -1.03855115e-04 -2.94170464e-04 -7.15790518e-04\n",
            " -1.55432829e-03 -2.57805150e-03 -3.81310138e-03 -4.79280837e-03\n",
            " -5.04543493e-03 -4.56705394e-03 -3.45480729e-03 -2.16107839e-03\n",
            " -1.23099967e-03 -6.18945328e-04 -2.04979656e-04  5.77847346e-05\n",
            "  1.38525936e-04  5.89136448e-05  1.29859930e-05  1.02017207e-06\n",
            "  6.46282701e-07 -7.60609541e-07 -0.00000000e+00 -0.00000000e+00\n",
            " -0.00000000e+00 -0.00000000e+00 -0.00000000e+00 -0.00000000e+00\n",
            " -2.04000078e-06 -8.89050445e-06 -2.23138657e-05 -5.11115624e-05\n",
            " -5.24136684e-05 -9.01329638e-05 -2.39965797e-04 -2.93135626e-04\n",
            " -2.90224509e-04 -2.73441521e-04 -2.40137508e-04 -1.68424841e-04\n",
            " -8.76899668e-05 -4.59619718e-05 -1.27476860e-05  1.72527707e-05\n",
            "  5.51266104e-06 -2.59363587e-07 -4.95273332e-07  1.37842024e-07\n",
            " -0.00000000e+00 -0.00000000e+00 -0.00000000e+00 -0.00000000e+00]\n"
          ]
        }
      ]
    },
    {
      "cell_type": "code",
      "source": [
        "image1 = pca.components_[0].reshape((28, 28))\n",
        "image2 = pca.components_[1].reshape((28, 28))\n",
        "\n",
        "#plotting it as an image\n",
        "fig, axes = plt.subplots(1, 2, figsize=(10, 5))\n",
        "\n",
        "# Plot image1 on the first subplot\n",
        "axes[0].imshow(image1)\n",
        "axes[0].axis('off')  # Turn off axis\n",
        "axes[0].set_title('First Principal Component')\n",
        "\n",
        "# Plot image2 on the second subplot\n",
        "axes[1].imshow(image2)\n",
        "axes[1].axis('off')  # Turn off axis\n",
        "axes[1].set_title('Second Principal Component')\n",
        "\n",
        "plt.savefig(\"principal components as image\")"
      ],
      "metadata": {
        "colab": {
          "base_uri": "https://localhost:8080/",
          "height": 285
        },
        "id": "UM7jIuyGOyIo",
        "outputId": "bdf0d97e-115d-4928-d1bf-059cbad672ec"
      },
      "execution_count": null,
      "outputs": [
        {
          "output_type": "display_data",
          "data": {
            "text/plain": [
              "<Figure size 640x480 with 2 Axes>"
            ],
            "image/png": "[encoded data removed]"
          },
          "metadata": {}
        }
      ]
    },
    {
      "cell_type": "code",
      "source": [
        "# extra code – this cell generates and saves Figure 8–9\n",
        "\n",
        "X_recovered = pca.inverse_transform(X_reduced)\n",
        "\n",
        "plt.figure(figsize=(7, 4))\n",
        "for idx, X in enumerate((X_train[::2100], X_recovered[::2100])):\n",
        "    plt.subplot(1, 2, idx + 1)\n",
        "    plt.title([\"Original\", \"Compressed\"][idx])\n",
        "    for row in range(5):\n",
        "        for col in range(5):\n",
        "            plt.imshow(X[row * 5 + col].reshape(28, 28), cmap=\"binary\",\n",
        "                       vmin=0, vmax=255, extent=(row, row + 1, col, col + 1))\n",
        "            plt.axis([0, 5, 0, 5])\n",
        "            plt.axis(\"off\")\n",
        "\n",
        "save_fig(\"mnist_compression_plot\")"
      ],
      "metadata": {
        "colab": {
          "base_uri": "https://localhost:8080/",
          "height": 224
        },
        "id": "xXkw4ZSXRCdf",
        "outputId": "0c918fd4-496c-4c22-d6d3-bf95256d9769"
      },
      "execution_count": null,
      "outputs": [
        {
          "output_type": "error",
          "ename": "NameError",
          "evalue": "name 'X_recovered' is not defined",
          "traceback": [
            "\u001b[0;31m---------------------------------------------------------------------------\u001b[0m",
            "\u001b[0;31mNameError\u001b[0m                                 Traceback (most recent call last)",
            "\u001b[0;32m<ipython-input-15-7f39d4aed888>\u001b[0m in \u001b[0;36m<cell line: 4>\u001b[0;34m()\u001b[0m\n\u001b[1;32m      2\u001b[0m \u001b[0;34m\u001b[0m\u001b[0m\n\u001b[1;32m      3\u001b[0m \u001b[0mplt\u001b[0m\u001b[0;34m.\u001b[0m\u001b[0mfigure\u001b[0m\u001b[0;34m(\u001b[0m\u001b[0mfigsize\u001b[0m\u001b[0;34m=\u001b[0m\u001b[0;34m(\u001b[0m\u001b[0;36m7\u001b[0m\u001b[0;34m,\u001b[0m \u001b[0;36m4\u001b[0m\u001b[0;34m)\u001b[0m\u001b[0;34m)\u001b[0m\u001b[0;34m\u001b[0m\u001b[0;34m\u001b[0m\u001b[0m\n\u001b[0;32m----> 4\u001b[0;31m \u001b[0;32mfor\u001b[0m \u001b[0midx\u001b[0m\u001b[0;34m,\u001b[0m \u001b[0mX\u001b[0m \u001b[0;32min\u001b[0m \u001b[0menumerate\u001b[0m\u001b[0;34m(\u001b[0m\u001b[0;34m(\u001b[0m\u001b[0mX_train\u001b[0m\u001b[0;34m[\u001b[0m\u001b[0;34m:\u001b[0m\u001b[0;34m:\u001b[0m\u001b[0;36m2100\u001b[0m\u001b[0;34m]\u001b[0m\u001b[0;34m,\u001b[0m \u001b[0mX_recovered\u001b[0m\u001b[0;34m[\u001b[0m\u001b[0;34m:\u001b[0m\u001b[0;34m:\u001b[0m\u001b[0;36m2100\u001b[0m\u001b[0;34m]\u001b[0m\u001b[0;34m)\u001b[0m\u001b[0;34m)\u001b[0m\u001b[0;34m:\u001b[0m\u001b[0;34m\u001b[0m\u001b[0;34m\u001b[0m\u001b[0m\n\u001b[0m\u001b[1;32m      5\u001b[0m     \u001b[0mplt\u001b[0m\u001b[0;34m.\u001b[0m\u001b[0msubplot\u001b[0m\u001b[0;34m(\u001b[0m\u001b[0;36m1\u001b[0m\u001b[0;34m,\u001b[0m \u001b[0;36m2\u001b[0m\u001b[0;34m,\u001b[0m \u001b[0midx\u001b[0m \u001b[0;34m+\u001b[0m \u001b[0;36m1\u001b[0m\u001b[0;34m)\u001b[0m\u001b[0;34m\u001b[0m\u001b[0;34m\u001b[0m\u001b[0m\n\u001b[1;32m      6\u001b[0m     \u001b[0mplt\u001b[0m\u001b[0;34m.\u001b[0m\u001b[0mtitle\u001b[0m\u001b[0;34m(\u001b[0m\u001b[0;34m[\u001b[0m\u001b[0;34m\"Original\"\u001b[0m\u001b[0;34m,\u001b[0m \u001b[0;34m\"Compressed\"\u001b[0m\u001b[0;34m]\u001b[0m\u001b[0;34m[\u001b[0m\u001b[0midx\u001b[0m\u001b[0;34m]\u001b[0m\u001b[0;34m)\u001b[0m\u001b[0;34m\u001b[0m\u001b[0;34m\u001b[0m\u001b[0m\n",
            "\u001b[0;31mNameError\u001b[0m: name 'X_recovered' is not defined"
          ]
        },
        {
          "output_type": "display_data",
          "data": {
            "text/plain": [
              "<Figure size 700x400 with 0 Axes>"
            ]
          },
          "metadata": {}
        }
      ]
    }
  ]
}